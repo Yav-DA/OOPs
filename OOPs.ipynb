{
  "nbformat": 4,
  "nbformat_minor": 0,
  "metadata": {
    "colab": {
      "provenance": []
    },
    "kernelspec": {
      "name": "python3",
      "display_name": "Python 3"
    },
    "language_info": {
      "name": "python"
    }
  },
  "cells": [
    {
      "cell_type": "markdown",
      "source": [
        "THEORETICAL ANSWERS"
      ],
      "metadata": {
        "id": "RwksZYrQ4Jm0"
      }
    },
    {
      "cell_type": "markdown",
      "source": [
        "1. What is Object-Oriented Programming (OOP)?\n",
        "\n",
        "\n",
        "*   Object-Oriented Programming (OOP) is a way of structuring code using objects that represent real things. Each object holds data and functions. It helps make code more organized, reusable, and easier to manage.\n",
        "\n"
      ],
      "metadata": {
        "id": "s66_wFs34Wn_"
      }
    },
    {
      "cell_type": "markdown",
      "source": [
        "2. What is a class in OOP?\n",
        "\n",
        "\n",
        "*   A class is like a blueprint for creating objects. It defines what data (attributes) and actions (methods) those objects will have.\n",
        "\n"
      ],
      "metadata": {
        "id": "Pc9PmN0k46wq"
      }
    },
    {
      "cell_type": "markdown",
      "source": [
        "3. What is an object in OOP?\n",
        "\n",
        "\n",
        "*   An object is an actual instance created from a class. It has real values and can use the methods defined in the class.\n",
        "\n"
      ],
      "metadata": {
        "id": "-asA9vv-5IWM"
      }
    },
    {
      "cell_type": "markdown",
      "source": [
        "4. What is the difference between abstraction and encapsulation?\n",
        "\n",
        "\n",
        "*   Abstraction means showing only the important stuff and hiding the messy details.\n",
        "*   Encapsulation is more about keeping data safe and hidden inside the object, only allowing access through proper methods.\n",
        "\n"
      ],
      "metadata": {
        "id": "2sx9yq6q5OGZ"
      }
    },
    {
      "cell_type": "markdown",
      "source": [
        "5. What are dunder methods in Python?\n",
        "\n",
        "\n",
        "*   Dunder methods are special functions in Python that start and end with double underscores — like __init__ or __str__. They help us change how built-in things like printing or adding objects behave.\n",
        "\n"
      ],
      "metadata": {
        "id": "syJ2vV3P5cGl"
      }
    },
    {
      "cell_type": "markdown",
      "source": [
        "6. Explain the concept of inheritance in OOP\n",
        "\n",
        "\n",
        "*   Inheritance lets one class take on the properties and functions of another class. So, instead of writing the same code again, we can just inherit it from a base class.\n",
        "\n",
        "7. What is polymorphism in OOP?\n",
        "\n",
        "\n",
        "*   Polymorphism means one method or function can work differently depending on the object it’s used with. For example, two classes can have the same method name, but each does something unique.\n",
        "\n",
        "8. How is encapsulation achieved in Python?\n",
        "\n",
        "\n",
        "*   In Python, we use underscores before variable names to signal they shouldn’t be accessed directly. We then use getter and setter methods to safely access or change those values.\n",
        "\n",
        "9. What is a constructor in Python?\n",
        "\n",
        "\n",
        "*   A constructor is a special function called __init__() that runs when you create an object. It helps set up the initial values for that object.\n",
        "\n",
        "10. What are class and static methods in Python?\n",
        "\n",
        "\n",
        "*   A class method works with the class itself and not just an object.\n",
        "*   A static method is more like a regular function inside the class — it doesn’t need access to either the class or object.\n",
        "\n",
        "\n",
        "\n",
        "\n",
        "\n",
        "\n",
        "\n",
        "\n",
        "\n"
      ],
      "metadata": {
        "id": "yrftRuiF5kOR"
      }
    },
    {
      "cell_type": "markdown",
      "source": [
        "11. What is method overloading in Python?\n",
        "\n",
        "\n",
        "*   Technically, Python doesn’t do method overloading like some other languages. But we can mimic it using default values or *args to handle different cases.\n",
        "\n",
        "\n",
        "12. What is method overriding in OOP?\n",
        "\n",
        "\n",
        "*   This is when a child class has its own version of a method that was already defined in the parent class. It replaces the original version when called on the child.\n",
        "\n",
        "13. What is a property decorator in Python?\n",
        "\n",
        "\n",
        "*   The @property decorator lets us turn a method into a readable attribute. It’s useful when we want to compute or manage a value like a variable, without calling it like a function.\n",
        "\n",
        "\n",
        "\n",
        "\n",
        "\n"
      ],
      "metadata": {
        "id": "ykT1ri_s6S5G"
      }
    },
    {
      "cell_type": "markdown",
      "source": [
        "14. Why is polymorphism important in OOP?\n",
        "\n",
        "\n",
        "*   It makes our code more flexible. We can write one function that works with objects of different types, without needing to write separate code for each one.\n",
        "\n",
        "15. What is an abstract class in Python?\n",
        "\n",
        "\n",
        "*   An abstract class is a base class that can’t be used directly - it’s meant to be extended. It usually has one or more methods that must be written in any class that inherits it.\n",
        "\n",
        "16. What are the advantages of OOP?\n",
        "\n",
        "\n",
        "*   It keeps code organized and reusable\n",
        "*   Easier to manage big projects\n",
        "*   Allows better security and control over data\n",
        "*   Makes debugging and updating code simpler\n",
        "\n",
        "\n",
        "\n",
        "\n",
        "\n",
        "\n",
        "\n"
      ],
      "metadata": {
        "id": "Pr1uorwr6uBb"
      }
    },
    {
      "cell_type": "markdown",
      "source": [
        "17. What is the difference between a class variable and an instance variable?\n",
        "\n",
        "\n",
        "*   A class variable is shared by all objects made from that class.\n",
        "*   An instance variable is unique to each object.\n",
        "\n",
        "18. What is multiple inheritance in Python?\n",
        "\n",
        "\n",
        "*   Multiple inheritance is when a class inherits features from more than one parent class. It lets us combine functionality but can also make things more complex.\n",
        "\n",
        "19. Explain the purpose of __str__ and __repr__ in Python\n",
        "\n",
        "\n",
        "*   __str__ gives a nice-looking string when you print an object.\n",
        "*   __repr__ gives a more technical version, usually meant for developers.\n",
        "\n",
        "20. What is the significance of the super() function in Python?\n",
        "\n",
        "\n",
        "*   super() is used to call a method from the parent class. It helps when you override methods but still want to include the original behavior.\n",
        "\n",
        "\n",
        "\n",
        "\n",
        "\n",
        "\n",
        "\n"
      ],
      "metadata": {
        "id": "KU1VrC407J66"
      }
    },
    {
      "cell_type": "markdown",
      "source": [
        "21. What is the significance of the __del__ method in Python?\n",
        "\n",
        "\n",
        "*   This method is called when an object is being deleted. It can help clean up resources, though Python handles most memory stuff automatically.\n",
        "\n",
        "22. What is the difference between @staticmethod and @classmethod?\n",
        "\n",
        "\n",
        "*   @staticmethod: just a regular function in the class — doesn’t need class or object info.\n",
        "*   @classmethod: has access to the class and is used when we want to work with class-level data.\n",
        "\n",
        "23. How does polymorphism work in Python with inheritance?\n",
        "\n",
        "\n",
        "*   When multiple child classes inherit from the same parent and each one has its own version of a method, Python picks the correct one depending on which object you’re calling it on.\n",
        "\n",
        "\n",
        "\n",
        "\n",
        "\n"
      ],
      "metadata": {
        "id": "yAmU70Kh8JIJ"
      }
    },
    {
      "cell_type": "markdown",
      "source": [
        "24. What is method chaining in Python OOP?\n",
        "\n",
        "\n",
        "*   It means calling multiple methods on the same object in one line - made possible by having each method return self.\n",
        "\n",
        "25. What is the purpose of the __call__ method in Python?\n",
        "\n",
        "\n",
        "*   If you define __call__ in a class, you can use the object like a function. It’s useful when you want objects to behave like callable actions.\n",
        "\n",
        "\n",
        "\n"
      ],
      "metadata": {
        "id": "QGbWydS38d-o"
      }
    },
    {
      "cell_type": "markdown",
      "source": [
        "PRACTICAL ANSWERS"
      ],
      "metadata": {
        "id": "tezZ8EHfCePF"
      }
    },
    {
      "cell_type": "markdown",
      "source": [
        "1. Parent class Animal, child class Dog overriding speak()"
      ],
      "metadata": {
        "id": "-KZIVr23Cbjv"
      }
    },
    {
      "cell_type": "code",
      "execution_count": 2,
      "metadata": {
        "colab": {
          "base_uri": "https://localhost:8080/"
        },
        "id": "Tj71c1i74FIe",
        "outputId": "8f247e77-aef6-4763-efb5-15b4baa08706"
      },
      "outputs": [
        {
          "output_type": "stream",
          "name": "stdout",
          "text": [
            "Animal makes a sound\n",
            "Bark!\n"
          ]
        }
      ],
      "source": [
        "class Animal:\n",
        "    def speak(self):\n",
        "        print(\"Animal makes a sound\")\n",
        "\n",
        "class Dog(Animal):\n",
        "    def speak(self):\n",
        "        print(\"Bark!\")\n",
        "\n",
        "# Example\n",
        "a = Animal()\n",
        "a.speak()  # Animal makes a sound\n",
        "\n",
        "d = Dog()\n",
        "d.speak()  # Bark!"
      ]
    },
    {
      "cell_type": "markdown",
      "source": [
        "2. Abstract class Shape, derived classes Circle and Rectangle"
      ],
      "metadata": {
        "id": "em-pNEx5CXkC"
      }
    },
    {
      "cell_type": "code",
      "source": [
        "from abc import ABC, abstractmethod\n",
        "\n",
        "class Shape(ABC):\n",
        "    @abstractmethod\n",
        "    def area(self):\n",
        "        pass\n",
        "\n",
        "class Circle(Shape):\n",
        "    def __init__(self, radius):\n",
        "        self.radius = radius\n",
        "\n",
        "    def area(self):\n",
        "        return 3.14 * self.radius ** 2\n",
        "\n",
        "class Rectangle(Shape):\n",
        "    def __init__(self, length, width):\n",
        "        self.length = length\n",
        "        self.width = width\n",
        "\n",
        "    def area(self):\n",
        "        return self.length * self.width\n",
        "\n",
        "# Example\n",
        "c = Circle(4)\n",
        "r = Rectangle(5, 6)\n",
        "print(c.area())\n",
        "print(r.area())"
      ],
      "metadata": {
        "colab": {
          "base_uri": "https://localhost:8080/"
        },
        "id": "WE1FIq1s9RKi",
        "outputId": "118fc5f7-0bf2-4973-ebe2-0864e61dbac7"
      },
      "execution_count": 5,
      "outputs": [
        {
          "output_type": "stream",
          "name": "stdout",
          "text": [
            "50.24\n",
            "30\n"
          ]
        }
      ]
    },
    {
      "cell_type": "markdown",
      "source": [
        "3. Multi-level inheritance: Vehicle → Car → ElectricCar"
      ],
      "metadata": {
        "id": "wceok1veCTo_"
      }
    },
    {
      "cell_type": "code",
      "source": [
        "class Vehicle:\n",
        "    def __init__(self, v_type):\n",
        "        self.type = v_type\n",
        "\n",
        "class Car(Vehicle):\n",
        "    def __init__(self, v_type, brand):\n",
        "        super().__init__(v_type)\n",
        "        self.brand = brand\n",
        "\n",
        "class ElectricCar(Car):\n",
        "    def __init__(self, v_type, brand, battery):\n",
        "        super().__init__(v_type, brand)\n",
        "        self.battery = battery\n",
        "\n",
        "# Example\n",
        "e_car = ElectricCar(\"Electric\", \"Tesla\", \"80kWh\")\n",
        "print(e_car.type, e_car.brand, e_car.battery)"
      ],
      "metadata": {
        "colab": {
          "base_uri": "https://localhost:8080/"
        },
        "id": "izPz5CnH9jxQ",
        "outputId": "103f0281-0b63-48d2-df9d-dbe2a753924b"
      },
      "execution_count": 7,
      "outputs": [
        {
          "output_type": "stream",
          "name": "stdout",
          "text": [
            "Electric Tesla 80kWh\n"
          ]
        }
      ]
    },
    {
      "cell_type": "markdown",
      "source": [
        "4. Polymorphism: Base class Bird, subclasses Sparrow, Penguin"
      ],
      "metadata": {
        "id": "KSzqfI-FCQB-"
      }
    },
    {
      "cell_type": "code",
      "source": [
        "class Bird:\n",
        "    def fly(self):\n",
        "        print(\"Bird is flying\")\n",
        "\n",
        "class Sparrow(Bird):\n",
        "    def fly(self):\n",
        "        print(\"Sparrow flies high\")\n",
        "\n",
        "class Penguin(Bird):\n",
        "    def fly(self):\n",
        "        print(\"Penguins can't fly\")\n",
        "\n",
        "# Example\n",
        "b1 = Sparrow()\n",
        "b2 = Penguin()\n",
        "b1.fly()  # Sparrow flies high\n",
        "b2.fly()  # Penguins can't fly"
      ],
      "metadata": {
        "colab": {
          "base_uri": "https://localhost:8080/"
        },
        "id": "wbfDANIZ9zJx",
        "outputId": "32138124-9d1a-4362-b104-e327f9b10f6b"
      },
      "execution_count": 8,
      "outputs": [
        {
          "output_type": "stream",
          "name": "stdout",
          "text": [
            "Sparrow flies high\n",
            "Penguins can't fly\n"
          ]
        }
      ]
    },
    {
      "cell_type": "markdown",
      "source": [
        "5. Encapsulation with class BankAccount"
      ],
      "metadata": {
        "id": "BwHXTQKFCO5i"
      }
    },
    {
      "cell_type": "code",
      "source": [
        "class BankAccount:\n",
        "    def __init__(self):\n",
        "        self.__balance = 0\n",
        "\n",
        "    def deposit(self, amount):\n",
        "        if amount > 0:\n",
        "            self.__balance += amount\n",
        "\n",
        "    def withdraw(self, amount):\n",
        "        if 0 < amount <= self.__balance:\n",
        "            self.__balance -= amount\n",
        "\n",
        "    def check_balance(self):\n",
        "        return self.__balance\n",
        "\n",
        "# Example\n",
        "acc = BankAccount()\n",
        "acc.deposit(12000)\n",
        "acc.withdraw(300)\n",
        "print(acc.check_balance())"
      ],
      "metadata": {
        "colab": {
          "base_uri": "https://localhost:8080/"
        },
        "id": "sHrylT2p94dP",
        "outputId": "f9f11a6f-4350-47c5-9644-ed1c8f463c70"
      },
      "execution_count": 11,
      "outputs": [
        {
          "output_type": "stream",
          "name": "stdout",
          "text": [
            "11700\n"
          ]
        }
      ]
    },
    {
      "cell_type": "markdown",
      "source": [
        "6. Runtime Polymorphism: Instrument → Guitar, Piano"
      ],
      "metadata": {
        "id": "igSXcs0wB-tH"
      }
    },
    {
      "cell_type": "code",
      "source": [
        "class Instrument:\n",
        "    def play(self):\n",
        "        print(\"Playing an instrument\")\n",
        "\n",
        "class Guitar(Instrument):\n",
        "    def play(self):\n",
        "        print(\"Playing the Guitar\")\n",
        "\n",
        "class Piano(Instrument):\n",
        "    def play(self):\n",
        "        print(\"Playing the Piano\")\n",
        "\n",
        "# Example\n",
        "for inst in [Guitar(), Piano()]:\n",
        "    inst.play()"
      ],
      "metadata": {
        "colab": {
          "base_uri": "https://localhost:8080/"
        },
        "id": "pl14bpdr-WXa",
        "outputId": "dbaadd6a-8e39-4904-c59d-b6621ea37324"
      },
      "execution_count": 14,
      "outputs": [
        {
          "output_type": "stream",
          "name": "stdout",
          "text": [
            "Playing the Guitar\n",
            "Playing the Piano\n"
          ]
        }
      ]
    },
    {
      "cell_type": "markdown",
      "source": [
        "7. Class method and static method in MathOperations\n"
      ],
      "metadata": {
        "id": "kBKpiwIBBzOv"
      }
    },
    {
      "cell_type": "code",
      "source": [
        "class MathOperations:\n",
        "    @classmethod\n",
        "    def add_numbers(cls, a, b):\n",
        "        return a + b\n",
        "\n",
        "    @staticmethod\n",
        "    def subtract_numbers(a, b):\n",
        "        return a - b\n",
        "\n",
        "# Example\n",
        "print(MathOperations.add_numbers(15, 5))\n",
        "print(MathOperations.subtract_numbers(10, 5))"
      ],
      "metadata": {
        "colab": {
          "base_uri": "https://localhost:8080/"
        },
        "id": "nRGCD1xg-y-y",
        "outputId": "759b1c94-90db-43aa-a5e5-b54659eae5ef"
      },
      "execution_count": 16,
      "outputs": [
        {
          "output_type": "stream",
          "name": "stdout",
          "text": [
            "20\n",
            "5\n"
          ]
        }
      ]
    },
    {
      "cell_type": "markdown",
      "source": [
        "8. Count persons using class method"
      ],
      "metadata": {
        "id": "eNE9ReZMBuY1"
      }
    },
    {
      "cell_type": "code",
      "source": [
        "class Person:\n",
        "    count = 0\n",
        "\n",
        "    def __init__(self):\n",
        "        Person.count += 1\n",
        "\n",
        "    @classmethod\n",
        "    def total_persons(cls):\n",
        "        return cls.count\n",
        "\n",
        "# Example\n",
        "p1 = Person()\n",
        "p2 = Person()\n",
        "print(Person.total_persons())"
      ],
      "metadata": {
        "colab": {
          "base_uri": "https://localhost:8080/"
        },
        "id": "lYqleMEU-___",
        "outputId": "6ee70a23-bc75-4549-b9df-7aab5ff90ad3"
      },
      "execution_count": 17,
      "outputs": [
        {
          "output_type": "stream",
          "name": "stdout",
          "text": [
            "2\n"
          ]
        }
      ]
    },
    {
      "cell_type": "markdown",
      "source": [
        "9. Class Fraction with __str__ method"
      ],
      "metadata": {
        "id": "cx0dUCBjBqvS"
      }
    },
    {
      "cell_type": "code",
      "source": [
        "class Fraction:\n",
        "    def __init__(self, numerator, denominator):\n",
        "        self.numerator = numerator\n",
        "        self.denominator = denominator\n",
        "\n",
        "    def __str__(self):\n",
        "        return f\"{self.numerator}/{self.denominator}\"\n",
        "\n",
        "# Example\n",
        "f = Fraction(2, 3)\n",
        "print(f)"
      ],
      "metadata": {
        "colab": {
          "base_uri": "https://localhost:8080/"
        },
        "id": "Zc8L38R5_D7Q",
        "outputId": "0316d42d-4999-4268-d19c-87c409fa9672"
      },
      "execution_count": 21,
      "outputs": [
        {
          "output_type": "stream",
          "name": "stdout",
          "text": [
            "2/3\n"
          ]
        }
      ]
    },
    {
      "cell_type": "markdown",
      "source": [
        "10. Operator Overloading in Vector class"
      ],
      "metadata": {
        "id": "SKCnmnbfBlnq"
      }
    },
    {
      "cell_type": "code",
      "source": [
        "class Vector:\n",
        "    def __init__(self, x, y):\n",
        "        self.x = x\n",
        "        self.y = y\n",
        "\n",
        "    def __add__(self, other):\n",
        "        return Vector(self.x + other.x, self.y + other.y)\n",
        "\n",
        "    def __str__(self):\n",
        "        return f\"({self.x}, {self.y})\"\n",
        "\n",
        "# Example\n",
        "v1 = Vector(1, 2)\n",
        "v2 = Vector(3, 4)\n",
        "v3 = v1 + v2\n",
        "print(v3)"
      ],
      "metadata": {
        "colab": {
          "base_uri": "https://localhost:8080/"
        },
        "id": "YXZFmZf__X8-",
        "outputId": "568a2dd8-f2e9-4c96-c051-9478a3462c5a"
      },
      "execution_count": 22,
      "outputs": [
        {
          "output_type": "stream",
          "name": "stdout",
          "text": [
            "(4, 6)\n"
          ]
        }
      ]
    },
    {
      "cell_type": "markdown",
      "source": [
        "11. Class Person with greet() method"
      ],
      "metadata": {
        "id": "VigDxPtRBiXU"
      }
    },
    {
      "cell_type": "code",
      "source": [
        "class Person:\n",
        "    def __init__(self, name, age):\n",
        "        self.name = name\n",
        "        self.age = age\n",
        "\n",
        "    def greet(self):\n",
        "        print(f\"Hello, my name is {self.name} and I am {self.age} years old.\")\n",
        "\n",
        "# Example\n",
        "p = Person(\"Yavnika\", 24)\n",
        "p.greet()"
      ],
      "metadata": {
        "colab": {
          "base_uri": "https://localhost:8080/"
        },
        "id": "YYKhIOar_fnI",
        "outputId": "de1fd1f6-f21a-43aa-ae22-bb48125e9d1b"
      },
      "execution_count": 24,
      "outputs": [
        {
          "output_type": "stream",
          "name": "stdout",
          "text": [
            "Hello, my name is Yavnika and I am 24 years old.\n"
          ]
        }
      ]
    },
    {
      "cell_type": "markdown",
      "source": [
        "12. Class Student with average_grade() method"
      ],
      "metadata": {
        "id": "2mrX1TylBehy"
      }
    },
    {
      "cell_type": "code",
      "source": [
        "class Student:\n",
        "    def __init__(self, name, grades):\n",
        "        self.name = name\n",
        "        self.grades = grades\n",
        "\n",
        "    def average_grade(self):\n",
        "        return sum(self.grades) / len(self.grades)\n",
        "\n",
        "# Example\n",
        "s = Student(\"Yav\", [87, 90, 98])\n",
        "print(s.average_grade())"
      ],
      "metadata": {
        "colab": {
          "base_uri": "https://localhost:8080/"
        },
        "id": "v38mbFgm_qwr",
        "outputId": "dbbc3d7b-0547-453d-bde9-1b83deb6d513"
      },
      "execution_count": 26,
      "outputs": [
        {
          "output_type": "stream",
          "name": "stdout",
          "text": [
            "91.66666666666667\n"
          ]
        }
      ]
    },
    {
      "cell_type": "markdown",
      "source": [
        "13. Class Rectangle with set_dimensions() and area()"
      ],
      "metadata": {
        "id": "dghrVII4BbyV"
      }
    },
    {
      "cell_type": "code",
      "source": [
        "class Rectangle:\n",
        "    def set_dimensions(self, length, width):\n",
        "        self.length = length\n",
        "        self.width = width\n",
        "\n",
        "    def area(self):\n",
        "        return self.length * self.width\n",
        "\n",
        "# Example\n",
        "r = Rectangle()\n",
        "r.set_dimensions(9, 6)\n",
        "print(r.area())"
      ],
      "metadata": {
        "colab": {
          "base_uri": "https://localhost:8080/"
        },
        "id": "2pDFIj_x_2WV",
        "outputId": "f398b832-96fc-4ef8-c072-ead8f4b62bd7"
      },
      "execution_count": 29,
      "outputs": [
        {
          "output_type": "stream",
          "name": "stdout",
          "text": [
            "54\n"
          ]
        }
      ]
    },
    {
      "cell_type": "markdown",
      "source": [
        "14. Employee and Manager class with salary calculation"
      ],
      "metadata": {
        "id": "EIZuO7OzBW_L"
      }
    },
    {
      "cell_type": "code",
      "source": [
        "class Employee:\n",
        "    def calculate_salary(self, hours, rate):\n",
        "        return hours * rate\n",
        "\n",
        "class Manager(Employee):\n",
        "    def calculate_salary(self, hours, rate, bonus=0):\n",
        "        return super().calculate_salary(hours, rate) + bonus\n",
        "\n",
        "# Example\n",
        "e = Employee()\n",
        "print(e.calculate_salary(40, 200))\n",
        "\n",
        "m = Manager()\n",
        "print(m.calculate_salary(40, 200, 5000))"
      ],
      "metadata": {
        "colab": {
          "base_uri": "https://localhost:8080/"
        },
        "id": "i5ydQLeXAAVg",
        "outputId": "f4a07f46-aa4d-40a4-9687-82622853feba"
      },
      "execution_count": 30,
      "outputs": [
        {
          "output_type": "stream",
          "name": "stdout",
          "text": [
            "8000\n",
            "13000\n"
          ]
        }
      ]
    },
    {
      "cell_type": "markdown",
      "source": [
        "15. Product class with total_price() method"
      ],
      "metadata": {
        "id": "7Mh-Fh2gBSTE"
      }
    },
    {
      "cell_type": "code",
      "source": [
        "class Product:\n",
        "    def __init__(self, name, price, quantity):\n",
        "        self.name = name\n",
        "        self.price = price\n",
        "        self.quantity = quantity\n",
        "\n",
        "    def total_price(self):\n",
        "        return self.price * self.quantity\n",
        "\n",
        "# Example\n",
        "p = Product(\"Dress\", 2300, 2)\n",
        "print(p.total_price())"
      ],
      "metadata": {
        "colab": {
          "base_uri": "https://localhost:8080/"
        },
        "id": "zGZYdS5pAV9j",
        "outputId": "131c6d5d-5141-487f-e848-e406a4c31306"
      },
      "execution_count": 32,
      "outputs": [
        {
          "output_type": "stream",
          "name": "stdout",
          "text": [
            "4600\n"
          ]
        }
      ]
    },
    {
      "cell_type": "markdown",
      "source": [
        "16. Abstract class Animal with sound() method, subclasses Cow and Sheep"
      ],
      "metadata": {
        "id": "VeI4ZRauBMlV"
      }
    },
    {
      "cell_type": "code",
      "source": [
        "from abc import ABC, abstractmethod\n",
        "\n",
        "class Animal(ABC):\n",
        "    @abstractmethod\n",
        "    def sound(self):\n",
        "        pass\n",
        "\n",
        "class Cow(Animal):\n",
        "    def sound(self):\n",
        "        print(\"Moo\")\n",
        "\n",
        "class Sheep(Animal):\n",
        "    def sound(self):\n",
        "        print(\"meeee\")\n",
        "\n",
        "# Example\n",
        "c = Cow()\n",
        "s = Sheep()\n",
        "c.sound()\n",
        "s.sound()"
      ],
      "metadata": {
        "colab": {
          "base_uri": "https://localhost:8080/"
        },
        "id": "wnl7wiiwAiBl",
        "outputId": "2fca63b1-7796-4721-c2d3-99773a776e42"
      },
      "execution_count": 34,
      "outputs": [
        {
          "output_type": "stream",
          "name": "stdout",
          "text": [
            "Moo\n",
            "meeee\n"
          ]
        }
      ]
    },
    {
      "cell_type": "markdown",
      "source": [
        "17. Book class with get_book_info() method"
      ],
      "metadata": {
        "id": "uFKiKViLBJPw"
      }
    },
    {
      "cell_type": "code",
      "source": [
        "class Book:\n",
        "    def __init__(self, title, author, year_published):\n",
        "        self.title = title\n",
        "        self.author = author\n",
        "        self.year_published = year_published\n",
        "\n",
        "    def get_book_info(self):\n",
        "        return f\"'{self.title}' by {self.author}, published in {self.year_published}\"\n",
        "\n",
        "# Example\n",
        "b = Book(\"The Alchemist\", \"Paulo Coelho\", 1988)\n",
        "print(b.get_book_info())"
      ],
      "metadata": {
        "colab": {
          "base_uri": "https://localhost:8080/"
        },
        "id": "3XQUI45DAvSS",
        "outputId": "8f718254-9aed-4815-ee40-f8edb45ccf13"
      },
      "execution_count": 35,
      "outputs": [
        {
          "output_type": "stream",
          "name": "stdout",
          "text": [
            "'The Alchemist' by Paulo Coelho, published in 1988\n"
          ]
        }
      ]
    },
    {
      "cell_type": "markdown",
      "source": [
        "18. Class House and derived class Mansion"
      ],
      "metadata": {
        "id": "TjowyIBDBIT1"
      }
    },
    {
      "cell_type": "code",
      "source": [
        "class House:\n",
        "    def __init__(self, address, price):\n",
        "        self.address = address\n",
        "        self.price = price\n",
        "\n",
        "class Mansion(House):\n",
        "    def __init__(self, address, price, number_of_rooms):\n",
        "        super().__init__(address, price)\n",
        "        self.number_of_rooms = number_of_rooms\n",
        "\n",
        "# Example\n",
        "m = Mansion(\"Delhi\", 50000000, 12)\n",
        "print(m.address, m.price, m.number_of_rooms)"
      ],
      "metadata": {
        "colab": {
          "base_uri": "https://localhost:8080/"
        },
        "id": "uVMtnEPmA3kP",
        "outputId": "1d9f85ff-f7a5-40bb-8a3a-0266afdd833d"
      },
      "execution_count": 37,
      "outputs": [
        {
          "output_type": "stream",
          "name": "stdout",
          "text": [
            "Delhi 50000000 12\n"
          ]
        }
      ]
    }
  ]
}